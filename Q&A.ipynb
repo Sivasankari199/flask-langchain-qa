{
 "cells": [
  {
   "cell_type": "code",
   "execution_count": 1,
   "id": "d10269e8-f8a5-45f0-a8e5-5f0c929e0085",
   "metadata": {
    "execution": {
     "iopub.execute_input": "2025-07-18T19:01:13.826138Z",
     "iopub.status.busy": "2025-07-18T19:01:13.825843Z",
     "iopub.status.idle": "2025-07-18T19:01:13.830397Z",
     "shell.execute_reply": "2025-07-18T19:01:13.829715Z",
     "shell.execute_reply.started": "2025-07-18T19:01:13.826108Z"
    }
   },
   "outputs": [],
   "source": [
    "# Cell 1: Configuration\n",
    "AWS_REGION = \"eu-north-1\"\n",
    "S3_BUCKET = \"my-semantic-search-data\"\n",
    "SAGEMAKER_ENDPOINT = \"jumpstart-dft-cohere-embed-multilin-20250717-233006\"\n",
    "CHROMA_PERSIST_DIR = \"./chroma_db\"\n",
    "EMBED_DIM = 1024  # Cohere multilingual embedding size\n",
    "CHUNK_SIZE = 400\n",
    "CHUNK_OVERLAP = 50\n"
   ]
  },
  {
   "cell_type": "code",
   "execution_count": 2,
   "id": "145f4794-70ae-4946-a1ba-94cc43da0a1d",
   "metadata": {
    "execution": {
     "iopub.execute_input": "2025-07-18T19:01:13.832314Z",
     "iopub.status.busy": "2025-07-18T19:01:13.831780Z",
     "iopub.status.idle": "2025-07-18T19:01:14.241570Z",
     "shell.execute_reply": "2025-07-18T19:01:14.240968Z",
     "shell.execute_reply.started": "2025-07-18T19:01:13.832283Z"
    }
   },
   "outputs": [
    {
     "name": "stdout",
     "output_type": "stream",
     "text": [
      "✅ Downloaded 'General_Application_of_Machine_Learning_in_Software_Engineering (4).pdf' to '/tmp/pdf_docs/General_Application_of_Machine_Learning_in_Software_Engineering (4).pdf'\n",
      "✅ Downloaded 'CodeofConduct2022-23-accommodation.pdf' to '/tmp/pdf_docs/CodeofConduct2022-23-accommodation.pdf'\n"
     ]
    }
   ],
   "source": [
    "import boto3\n",
    "import os\n",
    "\n",
    "# Initialize S3 client\n",
    "s3 = boto3.client(\"s3\", region_name=AWS_REGION)\n",
    "\n",
    "# List of PDF keys to download\n",
    "pdf_keys = [\n",
    "    \"General_Application_of_Machine_Learning_in_Software_Engineering (4).pdf\",\n",
    "    \"CodeofConduct2022-23-accommodation.pdf\"\n",
    "]\n",
    "\n",
    "# Local storage directory\n",
    "local_dir = \"/tmp/pdf_docs\"\n",
    "os.makedirs(local_dir, exist_ok=True)\n",
    "\n",
    "# Download all PDFs from S3\n",
    "local_pdf_paths = []\n",
    "\n",
    "for key in pdf_keys:\n",
    "    local_path = os.path.join(local_dir, os.path.basename(key))\n",
    "    try:\n",
    "        s3.download_file(S3_BUCKET, key, local_path)\n",
    "        print(f\"✅ Downloaded '{key}' to '{local_path}'\")\n",
    "        local_pdf_paths.append(local_path)\n",
    "    except Exception as e:\n",
    "        print(f\"❌ Error downloading '{key}': {e}\")\n"
   ]
  },
  {
   "cell_type": "code",
   "execution_count": 3,
   "id": "bfa92374-a7be-4676-b8c5-0a0741a302ff",
   "metadata": {
    "execution": {
     "iopub.execute_input": "2025-07-18T19:01:14.242719Z",
     "iopub.status.busy": "2025-07-18T19:01:14.242267Z",
     "iopub.status.idle": "2025-07-18T19:01:16.094436Z",
     "shell.execute_reply": "2025-07-18T19:01:16.093695Z",
     "shell.execute_reply.started": "2025-07-18T19:01:14.242594Z"
    }
   },
   "outputs": [
    {
     "name": "stdout",
     "output_type": "stream",
     "text": [
      "Requirement already satisfied: boto3 in /opt/conda/lib/python3.12/site-packages (1.28.57)\n",
      "Requirement already satisfied: langchain in /opt/conda/lib/python3.12/site-packages (0.3.26)\n",
      "Requirement already satisfied: chromadb in /opt/conda/lib/python3.12/site-packages (1.0.15)\n",
      "Requirement already satisfied: openai in /opt/conda/lib/python3.12/site-packages (1.97.0)\n",
      "Requirement already satisfied: PyPDF2 in /opt/conda/lib/python3.12/site-packages (3.0.1)\n",
      "Requirement already satisfied: botocore<1.32.0,>=1.31.57 in /opt/conda/lib/python3.12/site-packages (from boto3) (1.31.57)\n",
      "Requirement already satisfied: jmespath<2.0.0,>=0.7.1 in /opt/conda/lib/python3.12/site-packages (from boto3) (1.0.1)\n",
      "Requirement already satisfied: s3transfer<0.8.0,>=0.7.0 in /opt/conda/lib/python3.12/site-packages (from boto3) (0.7.0)\n",
      "Requirement already satisfied: python-dateutil<3.0.0,>=2.1 in /opt/conda/lib/python3.12/site-packages (from botocore<1.32.0,>=1.31.57->boto3) (2.9.0.post0)\n",
      "Requirement already satisfied: urllib3<1.27,>=1.25.4 in /opt/conda/lib/python3.12/site-packages (from botocore<1.32.0,>=1.31.57->boto3) (1.26.20)\n",
      "Requirement already satisfied: six>=1.5 in /opt/conda/lib/python3.12/site-packages (from python-dateutil<3.0.0,>=2.1->botocore<1.32.0,>=1.31.57->boto3) (1.17.0)\n",
      "Requirement already satisfied: langchain-core<1.0.0,>=0.3.66 in /opt/conda/lib/python3.12/site-packages (from langchain) (0.3.68)\n",
      "Requirement already satisfied: langchain-text-splitters<1.0.0,>=0.3.8 in /opt/conda/lib/python3.12/site-packages (from langchain) (0.3.8)\n",
      "Requirement already satisfied: langsmith>=0.1.17 in /opt/conda/lib/python3.12/site-packages (from langchain) (0.3.45)\n",
      "Requirement already satisfied: pydantic<3.0.0,>=2.7.4 in /opt/conda/lib/python3.12/site-packages (from langchain) (2.11.7)\n",
      "Requirement already satisfied: SQLAlchemy<3,>=1.4 in /opt/conda/lib/python3.12/site-packages (from langchain) (2.0.41)\n",
      "Requirement already satisfied: requests<3,>=2 in /opt/conda/lib/python3.12/site-packages (from langchain) (2.32.4)\n",
      "Requirement already satisfied: PyYAML>=5.3 in /opt/conda/lib/python3.12/site-packages (from langchain) (6.0.2)\n",
      "Requirement already satisfied: tenacity!=8.4.0,<10.0.0,>=8.1.0 in /opt/conda/lib/python3.12/site-packages (from langchain-core<1.0.0,>=0.3.66->langchain) (9.1.2)\n",
      "Requirement already satisfied: jsonpatch<2.0,>=1.33 in /opt/conda/lib/python3.12/site-packages (from langchain-core<1.0.0,>=0.3.66->langchain) (1.33)\n",
      "Requirement already satisfied: packaging<25,>=23.2 in /opt/conda/lib/python3.12/site-packages (from langchain-core<1.0.0,>=0.3.66->langchain) (24.2)\n",
      "Requirement already satisfied: typing-extensions>=4.7 in /opt/conda/lib/python3.12/site-packages (from langchain-core<1.0.0,>=0.3.66->langchain) (4.14.1)\n",
      "Requirement already satisfied: jsonpointer>=1.9 in /opt/conda/lib/python3.12/site-packages (from jsonpatch<2.0,>=1.33->langchain-core<1.0.0,>=0.3.66->langchain) (3.0.0)\n",
      "Requirement already satisfied: annotated-types>=0.6.0 in /opt/conda/lib/python3.12/site-packages (from pydantic<3.0.0,>=2.7.4->langchain) (0.7.0)\n",
      "Requirement already satisfied: pydantic-core==2.33.2 in /opt/conda/lib/python3.12/site-packages (from pydantic<3.0.0,>=2.7.4->langchain) (2.33.2)\n",
      "Requirement already satisfied: typing-inspection>=0.4.0 in /opt/conda/lib/python3.12/site-packages (from pydantic<3.0.0,>=2.7.4->langchain) (0.4.1)\n",
      "Requirement already satisfied: charset_normalizer<4,>=2 in /opt/conda/lib/python3.12/site-packages (from requests<3,>=2->langchain) (3.4.2)\n",
      "Requirement already satisfied: idna<4,>=2.5 in /opt/conda/lib/python3.12/site-packages (from requests<3,>=2->langchain) (3.10)\n",
      "Requirement already satisfied: certifi>=2017.4.17 in /opt/conda/lib/python3.12/site-packages (from requests<3,>=2->langchain) (2025.6.15)\n",
      "Requirement already satisfied: greenlet>=1 in /opt/conda/lib/python3.12/site-packages (from SQLAlchemy<3,>=1.4->langchain) (3.2.3)\n",
      "Requirement already satisfied: build>=1.0.3 in /opt/conda/lib/python3.12/site-packages (from chromadb) (1.2.2.post1)\n",
      "Requirement already satisfied: pybase64>=1.4.1 in /opt/conda/lib/python3.12/site-packages (from chromadb) (1.4.1)\n",
      "Requirement already satisfied: uvicorn>=0.18.3 in /opt/conda/lib/python3.12/site-packages (from uvicorn[standard]>=0.18.3->chromadb) (0.35.0)\n",
      "Requirement already satisfied: numpy>=1.22.5 in /opt/conda/lib/python3.12/site-packages (from chromadb) (1.26.4)\n",
      "Requirement already satisfied: posthog<6.0.0,>=2.4.0 in /opt/conda/lib/python3.12/site-packages (from chromadb) (5.4.0)\n",
      "Requirement already satisfied: onnxruntime>=1.14.1 in /opt/conda/lib/python3.12/site-packages (from chromadb) (1.22.0)\n",
      "Requirement already satisfied: opentelemetry-api>=1.2.0 in /opt/conda/lib/python3.12/site-packages (from chromadb) (1.35.0)\n",
      "Requirement already satisfied: opentelemetry-exporter-otlp-proto-grpc>=1.2.0 in /opt/conda/lib/python3.12/site-packages (from chromadb) (1.35.0)\n",
      "Requirement already satisfied: opentelemetry-sdk>=1.2.0 in /opt/conda/lib/python3.12/site-packages (from chromadb) (1.35.0)\n",
      "Requirement already satisfied: tokenizers>=0.13.2 in /opt/conda/lib/python3.12/site-packages (from chromadb) (0.21.4.dev0)\n",
      "Requirement already satisfied: pypika>=0.48.9 in /opt/conda/lib/python3.12/site-packages (from chromadb) (0.48.9)\n",
      "Requirement already satisfied: tqdm>=4.65.0 in /opt/conda/lib/python3.12/site-packages (from chromadb) (4.67.1)\n",
      "Requirement already satisfied: overrides>=7.3.1 in /opt/conda/lib/python3.12/site-packages (from chromadb) (7.7.0)\n",
      "Requirement already satisfied: importlib-resources in /opt/conda/lib/python3.12/site-packages (from chromadb) (6.5.2)\n",
      "Requirement already satisfied: grpcio>=1.58.0 in /opt/conda/lib/python3.12/site-packages (from chromadb) (1.67.1)\n",
      "Requirement already satisfied: bcrypt>=4.0.1 in /opt/conda/lib/python3.12/site-packages (from chromadb) (4.3.0)\n",
      "Requirement already satisfied: typer>=0.9.0 in /opt/conda/lib/python3.12/site-packages (from chromadb) (0.16.0)\n",
      "Requirement already satisfied: kubernetes>=28.1.0 in /opt/conda/lib/python3.12/site-packages (from chromadb) (33.1.0)\n",
      "Requirement already satisfied: mmh3>=4.0.1 in /opt/conda/lib/python3.12/site-packages (from chromadb) (5.1.0)\n",
      "Requirement already satisfied: orjson>=3.9.12 in /opt/conda/lib/python3.12/site-packages (from chromadb) (3.10.18)\n",
      "Requirement already satisfied: httpx>=0.27.0 in /opt/conda/lib/python3.12/site-packages (from chromadb) (0.28.1)\n",
      "Requirement already satisfied: rich>=10.11.0 in /opt/conda/lib/python3.12/site-packages (from chromadb) (13.9.4)\n",
      "Requirement already satisfied: jsonschema>=4.19.0 in /opt/conda/lib/python3.12/site-packages (from chromadb) (4.23.0)\n",
      "Requirement already satisfied: backoff>=1.10.0 in /opt/conda/lib/python3.12/site-packages (from posthog<6.0.0,>=2.4.0->chromadb) (2.2.1)\n",
      "Requirement already satisfied: distro>=1.5.0 in /opt/conda/lib/python3.12/site-packages (from posthog<6.0.0,>=2.4.0->chromadb) (1.9.0)\n",
      "Requirement already satisfied: anyio<5,>=3.5.0 in /opt/conda/lib/python3.12/site-packages (from openai) (4.9.0)\n",
      "Requirement already satisfied: jiter<1,>=0.4.0 in /opt/conda/lib/python3.12/site-packages (from openai) (0.10.0)\n",
      "Requirement already satisfied: sniffio in /opt/conda/lib/python3.12/site-packages (from openai) (1.3.1)\n",
      "Requirement already satisfied: httpcore==1.* in /opt/conda/lib/python3.12/site-packages (from httpx>=0.27.0->chromadb) (1.0.9)\n",
      "Requirement already satisfied: h11>=0.16 in /opt/conda/lib/python3.12/site-packages (from httpcore==1.*->httpx>=0.27.0->chromadb) (0.16.0)\n",
      "Requirement already satisfied: pyproject_hooks in /opt/conda/lib/python3.12/site-packages (from build>=1.0.3->chromadb) (1.2.0)\n",
      "Requirement already satisfied: attrs>=22.2.0 in /opt/conda/lib/python3.12/site-packages (from jsonschema>=4.19.0->chromadb) (23.2.0)\n",
      "Requirement already satisfied: jsonschema-specifications>=2023.03.6 in /opt/conda/lib/python3.12/site-packages (from jsonschema>=4.19.0->chromadb) (2025.4.1)\n",
      "Requirement already satisfied: referencing>=0.28.4 in /opt/conda/lib/python3.12/site-packages (from jsonschema>=4.19.0->chromadb) (0.36.2)\n",
      "Requirement already satisfied: rpds-py>=0.7.1 in /opt/conda/lib/python3.12/site-packages (from jsonschema>=4.19.0->chromadb) (0.26.0)\n",
      "Requirement already satisfied: google-auth>=1.0.1 in /opt/conda/lib/python3.12/site-packages (from kubernetes>=28.1.0->chromadb) (2.40.3)\n",
      "Requirement already satisfied: websocket-client!=0.40.0,!=0.41.*,!=0.42.*,>=0.32.0 in /opt/conda/lib/python3.12/site-packages (from kubernetes>=28.1.0->chromadb) (1.8.0)\n",
      "Requirement already satisfied: requests-oauthlib in /opt/conda/lib/python3.12/site-packages (from kubernetes>=28.1.0->chromadb) (2.0.0)\n",
      "Requirement already satisfied: oauthlib>=3.2.2 in /opt/conda/lib/python3.12/site-packages (from kubernetes>=28.1.0->chromadb) (3.3.1)\n",
      "Requirement already satisfied: durationpy>=0.7 in /opt/conda/lib/python3.12/site-packages (from kubernetes>=28.1.0->chromadb) (0.10)\n",
      "Requirement already satisfied: cachetools<6.0,>=2.0.0 in /opt/conda/lib/python3.12/site-packages (from google-auth>=1.0.1->kubernetes>=28.1.0->chromadb) (5.5.2)\n",
      "Requirement already satisfied: pyasn1-modules>=0.2.1 in /opt/conda/lib/python3.12/site-packages (from google-auth>=1.0.1->kubernetes>=28.1.0->chromadb) (0.4.2)\n",
      "Requirement already satisfied: rsa<5,>=3.1.4 in /opt/conda/lib/python3.12/site-packages (from google-auth>=1.0.1->kubernetes>=28.1.0->chromadb) (4.9.1)\n",
      "Requirement already satisfied: pyasn1>=0.1.3 in /opt/conda/lib/python3.12/site-packages (from rsa<5,>=3.1.4->google-auth>=1.0.1->kubernetes>=28.1.0->chromadb) (0.6.1)\n",
      "Requirement already satisfied: requests-toolbelt<2.0.0,>=1.0.0 in /opt/conda/lib/python3.12/site-packages (from langsmith>=0.1.17->langchain) (1.0.0)\n",
      "Requirement already satisfied: zstandard<0.24.0,>=0.23.0 in /opt/conda/lib/python3.12/site-packages (from langsmith>=0.1.17->langchain) (0.23.0)\n",
      "Requirement already satisfied: coloredlogs in /opt/conda/lib/python3.12/site-packages (from onnxruntime>=1.14.1->chromadb) (15.0.1)\n",
      "Requirement already satisfied: flatbuffers in /opt/conda/lib/python3.12/site-packages (from onnxruntime>=1.14.1->chromadb) (25.2.10)\n",
      "Requirement already satisfied: protobuf in /opt/conda/lib/python3.12/site-packages (from onnxruntime>=1.14.1->chromadb) (5.28.3)\n",
      "Requirement already satisfied: sympy in /opt/conda/lib/python3.12/site-packages (from onnxruntime>=1.14.1->chromadb) (1.14.0)\n",
      "Requirement already satisfied: importlib-metadata<8.8.0,>=6.0 in /opt/conda/lib/python3.12/site-packages (from opentelemetry-api>=1.2.0->chromadb) (6.10.0)\n",
      "Requirement already satisfied: zipp>=0.5 in /opt/conda/lib/python3.12/site-packages (from importlib-metadata<8.8.0,>=6.0->opentelemetry-api>=1.2.0->chromadb) (3.23.0)\n",
      "Requirement already satisfied: googleapis-common-protos~=1.57 in /opt/conda/lib/python3.12/site-packages (from opentelemetry-exporter-otlp-proto-grpc>=1.2.0->chromadb) (1.70.0)\n",
      "Requirement already satisfied: opentelemetry-exporter-otlp-proto-common==1.35.0 in /opt/conda/lib/python3.12/site-packages (from opentelemetry-exporter-otlp-proto-grpc>=1.2.0->chromadb) (1.35.0)\n",
      "Requirement already satisfied: opentelemetry-proto==1.35.0 in /opt/conda/lib/python3.12/site-packages (from opentelemetry-exporter-otlp-proto-grpc>=1.2.0->chromadb) (1.35.0)\n",
      "Requirement already satisfied: opentelemetry-semantic-conventions==0.56b0 in /opt/conda/lib/python3.12/site-packages (from opentelemetry-sdk>=1.2.0->chromadb) (0.56b0)\n",
      "Requirement already satisfied: markdown-it-py>=2.2.0 in /opt/conda/lib/python3.12/site-packages (from rich>=10.11.0->chromadb) (3.0.0)\n",
      "Requirement already satisfied: pygments<3.0.0,>=2.13.0 in /opt/conda/lib/python3.12/site-packages (from rich>=10.11.0->chromadb) (2.19.2)\n",
      "Requirement already satisfied: mdurl~=0.1 in /opt/conda/lib/python3.12/site-packages (from markdown-it-py>=2.2.0->rich>=10.11.0->chromadb) (0.1.2)\n",
      "Requirement already satisfied: huggingface-hub<1.0,>=0.16.4 in /opt/conda/lib/python3.12/site-packages (from tokenizers>=0.13.2->chromadb) (0.33.1)\n",
      "Requirement already satisfied: filelock in /opt/conda/lib/python3.12/site-packages (from huggingface-hub<1.0,>=0.16.4->tokenizers>=0.13.2->chromadb) (3.18.0)\n",
      "Requirement already satisfied: fsspec>=2023.5.0 in /opt/conda/lib/python3.12/site-packages (from huggingface-hub<1.0,>=0.16.4->tokenizers>=0.13.2->chromadb) (2024.12.0)\n",
      "Requirement already satisfied: hf-xet<2.0.0,>=1.1.2 in /opt/conda/lib/python3.12/site-packages (from huggingface-hub<1.0,>=0.16.4->tokenizers>=0.13.2->chromadb) (1.1.5)\n",
      "Requirement already satisfied: click>=8.0.0 in /opt/conda/lib/python3.12/site-packages (from typer>=0.9.0->chromadb) (8.2.1)\n",
      "Requirement already satisfied: shellingham>=1.3.0 in /opt/conda/lib/python3.12/site-packages (from typer>=0.9.0->chromadb) (1.5.4)\n",
      "Requirement already satisfied: httptools>=0.6.3 in /opt/conda/lib/python3.12/site-packages (from uvicorn[standard]>=0.18.3->chromadb) (0.6.4)\n",
      "Requirement already satisfied: python-dotenv>=0.13 in /opt/conda/lib/python3.12/site-packages (from uvicorn[standard]>=0.18.3->chromadb) (1.1.1)\n",
      "Requirement already satisfied: uvloop>=0.15.1 in /opt/conda/lib/python3.12/site-packages (from uvicorn[standard]>=0.18.3->chromadb) (0.21.0)\n",
      "Requirement already satisfied: watchfiles>=0.13 in /opt/conda/lib/python3.12/site-packages (from uvicorn[standard]>=0.18.3->chromadb) (1.1.0)\n",
      "Requirement already satisfied: websockets>=10.4 in /opt/conda/lib/python3.12/site-packages (from uvicorn[standard]>=0.18.3->chromadb) (15.0.1)\n",
      "Requirement already satisfied: humanfriendly>=9.1 in /opt/conda/lib/python3.12/site-packages (from coloredlogs->onnxruntime>=1.14.1->chromadb) (10.0)\n",
      "Requirement already satisfied: mpmath<1.4,>=1.1.0 in /opt/conda/lib/python3.12/site-packages (from sympy->onnxruntime>=1.14.1->chromadb) (1.3.0)\n",
      "Note: you may need to restart the kernel to use updated packages.\n"
     ]
    }
   ],
   "source": [
    "pip install boto3 langchain chromadb openai PyPDF2\n"
   ]
  },
  {
   "cell_type": "code",
   "execution_count": 4,
   "id": "6cd3b99d-1496-42dd-8f10-27d35d437596",
   "metadata": {
    "execution": {
     "iopub.execute_input": "2025-07-18T19:01:16.096854Z",
     "iopub.status.busy": "2025-07-18T19:01:16.096431Z",
     "iopub.status.idle": "2025-07-18T19:01:17.639669Z",
     "shell.execute_reply": "2025-07-18T19:01:17.638876Z",
     "shell.execute_reply.started": "2025-07-18T19:01:16.096829Z"
    }
   },
   "outputs": [
    {
     "name": "stdout",
     "output_type": "stream",
     "text": [
      "Requirement already satisfied: pypdf in /opt/conda/lib/python3.12/site-packages (5.8.0)\n"
     ]
    }
   ],
   "source": [
    "!pip install pypdf\n"
   ]
  },
  {
   "cell_type": "code",
   "execution_count": 5,
   "id": "2295fc99-c912-4cad-9c18-7b472508679c",
   "metadata": {
    "execution": {
     "iopub.execute_input": "2025-07-18T19:01:17.641224Z",
     "iopub.status.busy": "2025-07-18T19:01:17.640928Z",
     "iopub.status.idle": "2025-07-18T19:01:20.544484Z",
     "shell.execute_reply": "2025-07-18T19:01:20.543763Z",
     "shell.execute_reply.started": "2025-07-18T19:01:17.641191Z"
    }
   },
   "outputs": [
    {
     "name": "stdout",
     "output_type": "stream",
     "text": [
      "✅ Loaded 18 pages from 2 PDFs\n",
      "✅ Chunked into 180 text documents\n",
      "✅ Chroma vector store created with 540 documents\n"
     ]
    }
   ],
   "source": [
    "from langchain_community.document_loaders import PyPDFLoader\n",
    "from langchain.text_splitter import RecursiveCharacterTextSplitter\n",
    "from langchain.vectorstores import Chroma\n",
    "from langchain.embeddings.base import Embeddings\n",
    "import json\n",
    "import boto3\n",
    "import math\n",
    "\n",
    "# 1. Load all PDFs\n",
    "all_documents = []\n",
    "for pdf_path in local_pdf_paths:\n",
    "    loader = PyPDFLoader(pdf_path)\n",
    "    pages = loader.load()\n",
    "    all_documents.extend(pages)\n",
    "\n",
    "print(f\"✅ Loaded {len(all_documents)} pages from {len(local_pdf_paths)} PDFs\")\n",
    "\n",
    "# 2. Chunk pages into smaller documents\n",
    "text_splitter = RecursiveCharacterTextSplitter(chunk_size=CHUNK_SIZE, chunk_overlap=CHUNK_OVERLAP)\n",
    "chunked_documents = text_splitter.split_documents(all_documents)\n",
    "print(f\"✅ Chunked into {len(chunked_documents)} text documents\")\n",
    "\n",
    "# 3. Custom Embedding class with batching for SageMaker Cohere endpoint\n",
    "sm_runtime = boto3.client(\"sagemaker-runtime\", region_name=AWS_REGION)\n",
    "\n",
    "class SageMakerCohereEmbeddings(Embeddings):\n",
    "    def embed_documents(self, texts):\n",
    "        BATCH_SIZE = 48  # max supported by endpoint is 96, stay safe\n",
    "        all_embeddings = []\n",
    "\n",
    "        for i in range(0, len(texts), BATCH_SIZE):\n",
    "            batch = texts[i:i + BATCH_SIZE]\n",
    "            payload = {\n",
    "                \"texts\": batch,\n",
    "                \"input_type\": \"search_document\"\n",
    "            }\n",
    "            response = sm_runtime.invoke_endpoint(\n",
    "                EndpointName=SAGEMAKER_ENDPOINT,\n",
    "                ContentType=\"application/json\",\n",
    "                Body=json.dumps(payload)\n",
    "            )\n",
    "            result = json.loads(response[\"Body\"].read().decode(\"utf-8\"))\n",
    "            all_embeddings.extend(result[\"embeddings\"][\"float\"])\n",
    "\n",
    "        return all_embeddings\n",
    "\n",
    "    def embed_query(self, text):\n",
    "        return self.embed_documents([text])[0]\n",
    "\n",
    "embedding_model = SageMakerCohereEmbeddings()\n",
    "\n",
    "# 4. Store in Chroma DB\n",
    "vectordb = Chroma.from_documents(\n",
    "    documents=chunked_documents,\n",
    "    embedding=embedding_model,\n",
    "    persist_directory=CHROMA_PERSIST_DIR\n",
    ")\n",
    "\n",
    "print(f\"✅ Chroma vector store created with {vectordb._collection.count()} documents\")\n"
   ]
  },
  {
   "cell_type": "code",
   "execution_count": 6,
   "id": "d5880176-b6a1-4f4b-8d5d-781597ca0f31",
   "metadata": {
    "execution": {
     "iopub.execute_input": "2025-07-18T19:01:20.545551Z",
     "iopub.status.busy": "2025-07-18T19:01:20.545136Z",
     "iopub.status.idle": "2025-07-18T19:01:20.551044Z",
     "shell.execute_reply": "2025-07-18T19:01:20.550131Z",
     "shell.execute_reply.started": "2025-07-18T19:01:20.545522Z"
    }
   },
   "outputs": [],
   "source": [
    "retriever = vectordb.as_retriever(search_kwargs={\"k\": 4})  # Or desired `k`\n"
   ]
  },
  {
   "cell_type": "code",
   "execution_count": null,
   "id": "0fa002b9-2999-4b5e-8628-e11c5ffff791",
   "metadata": {
    "execution": {
     "iopub.execute_input": "2025-07-18T19:01:20.552821Z",
     "iopub.status.busy": "2025-07-18T19:01:20.552173Z",
     "iopub.status.idle": "2025-07-18T19:01:20.556270Z",
     "shell.execute_reply": "2025-07-18T19:01:20.555637Z",
     "shell.execute_reply.started": "2025-07-18T19:01:20.552793Z"
    }
   },
   "outputs": [],
   "source": [
    "import os\n",
    "\n",
    "#OpenAI API\n",
    "os.environ[\"OPENAI_API_KEY\"] = \"sk--\"  # Replace with your actual key\n"
   ]
  },
  {
   "cell_type": "code",
   "execution_count": 8,
   "id": "cf5b5905-4c67-46b4-8054-ae1012c93541",
   "metadata": {
    "execution": {
     "iopub.execute_input": "2025-07-18T19:01:20.557504Z",
     "iopub.status.busy": "2025-07-18T19:01:20.557174Z",
     "iopub.status.idle": "2025-07-18T19:01:21.376280Z",
     "shell.execute_reply": "2025-07-18T19:01:21.375626Z",
     "shell.execute_reply.started": "2025-07-18T19:01:20.557476Z"
    }
   },
   "outputs": [
    {
     "name": "stdout",
     "output_type": "stream",
     "text": [
      "✅ RetrievalQA chain initialized.\n"
     ]
    }
   ],
   "source": [
    "from langchain.chains import RetrievalQA\n",
    "from langchain.prompts import PromptTemplate\n",
    "from langchain_openai import ChatOpenAI\n",
    "\n",
    "# 1. Prompt Template\n",
    "prompt_template = \"\"\"You are an assistant for answering questions about machine learning documents.\n",
    "Use the following context to answer the question at the end.\n",
    "\n",
    "Context:\n",
    "{context}\n",
    "\n",
    "Question: {question}\n",
    "Answer:\"\"\"\n",
    "\n",
    "QA_PROMPT = PromptTemplate(\n",
    "    template=prompt_template,\n",
    "    input_variables=[\"context\", \"question\"]\n",
    ")\n",
    "\n",
    "# 2. Load OpenAI Chat Model\n",
    "llm = ChatOpenAI(\n",
    "    model=\"gpt-3.5-turbo\",\n",
    "    temperature=0.2\n",
    ")\n",
    "\n",
    "# 3. Build QA Chain\n",
    "qa_chain = RetrievalQA.from_chain_type(\n",
    "    llm=llm,\n",
    "    retriever=retriever,\n",
    "    chain_type=\"stuff\",\n",
    "    chain_type_kwargs={\"prompt\": QA_PROMPT}\n",
    ")\n",
    "\n",
    "print(\"✅ RetrievalQA chain initialized.\")\n"
   ]
  },
  {
   "cell_type": "code",
   "execution_count": 11,
   "id": "34a8c15b-e6f1-4c65-bb12-41aa411c14ff",
   "metadata": {
    "execution": {
     "iopub.execute_input": "2025-07-18T19:02:42.274067Z",
     "iopub.status.busy": "2025-07-18T19:02:42.273740Z",
     "iopub.status.idle": "2025-07-18T19:02:43.190282Z",
     "shell.execute_reply": "2025-07-18T19:02:43.189679Z",
     "shell.execute_reply.started": "2025-07-18T19:02:42.274046Z"
    }
   },
   "outputs": [
    {
     "name": "stdout",
     "output_type": "stream",
     "text": [
      "🧠 Answer:\n",
      "The key findings of the PDF code of conduct are that residents must observe the terms and conditions of the Licence Agreement and follow the instructions of the Manager, University staff, and other responsible individuals.\n"
     ]
    }
   ],
   "source": [
    "query = \"What are the key findings of pdf code of conduct?\"\n",
    "result = qa_chain.invoke({\"query\": query})\n",
    "print(\"🧠 Answer:\")\n",
    "print(result[\"result\"])\n"
   ]
  },
  {
   "cell_type": "code",
   "execution_count": 15,
   "id": "631f363e-495b-43b2-842f-79e64c5f27a2",
   "metadata": {
    "execution": {
     "iopub.execute_input": "2025-07-18T19:07:45.789486Z",
     "iopub.status.busy": "2025-07-18T19:07:45.789177Z",
     "iopub.status.idle": "2025-07-18T19:07:46.494632Z",
     "shell.execute_reply": "2025-07-18T19:07:46.494022Z",
     "shell.execute_reply.started": "2025-07-18T19:07:45.789465Z"
    }
   },
   "outputs": [
    {
     "name": "stdout",
     "output_type": "stream",
     "text": [
      "🧠 Answer:\n",
      "The document does not mention quantum computing.\n"
     ]
    }
   ],
   "source": [
    "import time\n",
    "from openai import OpenAIError  # Safe and current error class\n",
    "\n",
    "max_retries = 5\n",
    "query = \"quantum computing\"\n",
    "\n",
    "for attempt in range(max_retries):\n",
    "    try:\n",
    "        result = qa_chain.invoke({\"query\": query})\n",
    "        print(\"🧠 Answer:\")\n",
    "        print(result[\"result\"])\n",
    "        break\n",
    "    except OpenAIError as e:\n",
    "        wait_time = 2 ** attempt\n",
    "        print(f\"⚠️ OpenAI error: {e}. Retrying in {wait_time}s...\")\n",
    "        time.sleep(wait_time)\n",
    "else:\n",
    "    print(\"❌ Failed after multiple retries.\")\n"
   ]
  },
  {
   "cell_type": "code",
   "execution_count": null,
   "id": "699cb08b-03dc-4fb7-8968-062302f1d89d",
   "metadata": {},
   "outputs": [],
   "source": []
  },
  {
   "cell_type": "code",
   "execution_count": null,
   "id": "d6bd78c3-6ba1-4c8b-9fb5-d2ae62afebc0",
   "metadata": {},
   "outputs": [],
   "source": []
  },
  {
   "cell_type": "code",
   "execution_count": null,
   "id": "1d9ed3cb-86fb-4d7f-ad92-940256a1e140",
   "metadata": {},
   "outputs": [],
   "source": []
  },
  {
   "cell_type": "code",
   "execution_count": null,
   "id": "b9e007e3-5f91-458a-bc12-ce5641320e6a",
   "metadata": {},
   "outputs": [],
   "source": []
  },
  {
   "cell_type": "code",
   "execution_count": null,
   "id": "961b8ff3-18f1-4fac-ab0e-6d00b2e59bd1",
   "metadata": {},
   "outputs": [],
   "source": []
  },
  {
   "cell_type": "code",
   "execution_count": null,
   "id": "1809a633-30bb-40a7-9247-ba96b621df6c",
   "metadata": {},
   "outputs": [],
   "source": []
  },
  {
   "cell_type": "code",
   "execution_count": null,
   "id": "b852ff11-5906-4d0f-a7dd-2a19a7a60013",
   "metadata": {},
   "outputs": [],
   "source": []
  },
  {
   "cell_type": "code",
   "execution_count": null,
   "id": "4d1dc4be-5899-45c6-a179-db9c272cec3d",
   "metadata": {},
   "outputs": [],
   "source": []
  },
  {
   "cell_type": "code",
   "execution_count": null,
   "id": "ec82242b-bac2-438b-87ee-760ebcbf84d2",
   "metadata": {},
   "outputs": [],
   "source": []
  }
 ],
 "metadata": {
  "kernelspec": {
   "display_name": "Python 3 (ipykernel)",
   "language": "python",
   "name": "python3"
  },
  "language_info": {
   "codemirror_mode": {
    "name": "ipython",
    "version": 3
   },
   "file_extension": ".py",
   "mimetype": "text/x-python",
   "name": "python",
   "nbconvert_exporter": "python",
   "pygments_lexer": "ipython3",
   "version": "3.12.9"
  }
 },
 "nbformat": 4,
 "nbformat_minor": 5
}
